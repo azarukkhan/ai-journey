{
 "cells": [
  {
   "cell_type": "markdown",
   "id": "92dcd60c",
   "metadata": {},
   "source": [
    "\n",
    "# Week 4 – Intro to Machine Learning (Colab Format)\n",
    "\n",
    "This week we dip into **machine learning** using scikit-learn. We'll cover:\n",
    "- Loading data\n",
    "- Splitting into train/test sets\n",
    "- Training a simple model\n",
    "- Evaluating it with easy-to-understand metrics\n",
    "\n",
    "**No complex math** — just practical steps.\n",
    "\n",
    "**How to use in Google Colab**\n",
    "1. Download this notebook.\n",
    "2. Open https://colab.research.google.com\n",
    "3. File → Upload notebook → select this file.\n",
    "4. Run cells top to bottom (Shift + Enter).\n",
    "\n",
    "---\n",
    "\n",
    "## 📚 Free Learning Resources\n",
    "- Kaggle: [Intro to Machine Learning](https://www.kaggle.com/learn/intro-to-machine-learning)  \n",
    "- scikit-learn Tutorials → https://scikit-learn.org/stable/tutorial/index.html  \n"
   ]
  },
  {
   "cell_type": "markdown",
   "id": "a8155654",
   "metadata": {},
   "source": [
    "\n",
    "## 0) Setup\n"
   ]
  },
  {
   "cell_type": "code",
   "execution_count": null,
   "id": "065e0729",
   "metadata": {},
   "outputs": [],
   "source": [
    "\n",
    "import pandas as pd\n",
    "import numpy as np\n",
    "import matplotlib.pyplot as plt\n",
    "from sklearn.model_selection import train_test_split\n",
    "from sklearn.linear_model import LinearRegression\n",
    "from sklearn.metrics import mean_absolute_error, r2_score\n",
    "\n",
    "pd.__version__, np.__version__\n"
   ]
  },
  {
   "cell_type": "markdown",
   "id": "7f9e2c33",
   "metadata": {},
   "source": [
    "\n",
    "## 1) Load Example Dataset\n",
    "\n",
    "We'll use scikit-learn's built-in **California Housing** dataset (small & clean).\n"
   ]
  },
  {
   "cell_type": "code",
   "execution_count": null,
   "id": "ce932d2c",
   "metadata": {},
   "outputs": [],
   "source": [
    "\n",
    "from sklearn.datasets import fetch_california_housing\n",
    "\n",
    "california = fetch_california_housing(as_frame=True)\n",
    "df = california.frame\n",
    "df.head()\n"
   ]
  },
  {
   "cell_type": "markdown",
   "id": "4ba981d4",
   "metadata": {},
   "source": [
    "\n",
    "## 2) Inspect Data\n"
   ]
  },
  {
   "cell_type": "code",
   "execution_count": null,
   "id": "c166cd42",
   "metadata": {},
   "outputs": [],
   "source": [
    "\n",
    "df.info()\n",
    "df.describe()\n"
   ]
  },
  {
   "cell_type": "markdown",
   "id": "f8cc2965",
   "metadata": {},
   "source": [
    "\n",
    "## 3) Select Features & Target\n",
    "\n",
    "We'll predict **median house value** based on a few features.\n"
   ]
  },
  {
   "cell_type": "code",
   "execution_count": null,
   "id": "692c81c4",
   "metadata": {},
   "outputs": [],
   "source": [
    "\n",
    "X = df[[\"MedInc\", \"AveRooms\", \"HouseAge\", \"AveOccup\"]]  # Features\n",
    "y = df[\"MedHouseVal\"]  # Target\n"
   ]
  },
  {
   "cell_type": "markdown",
   "id": "c14e9232",
   "metadata": {},
   "source": [
    "\n",
    "## 4) Split Data into Train/Test Sets\n"
   ]
  },
  {
   "cell_type": "code",
   "execution_count": null,
   "id": "50121f5c",
   "metadata": {},
   "outputs": [],
   "source": [
    "\n",
    "X_train, X_test, y_train, y_test = train_test_split(X, y, test_size=0.2, random_state=42)\n",
    "X_train.shape, X_test.shape\n"
   ]
  },
  {
   "cell_type": "markdown",
   "id": "7b4cf413",
   "metadata": {},
   "source": [
    "\n",
    "## 5) Train a Linear Regression Model\n"
   ]
  },
  {
   "cell_type": "code",
   "execution_count": null,
   "id": "e9380069",
   "metadata": {},
   "outputs": [],
   "source": [
    "\n",
    "model = LinearRegression()\n",
    "model.fit(X_train, y_train)\n",
    "\n",
    "print(\"Model coefficients:\", model.coef_)\n",
    "print(\"Model intercept:\", model.intercept_)\n"
   ]
  },
  {
   "cell_type": "markdown",
   "id": "ff7c34df",
   "metadata": {},
   "source": [
    "\n",
    "## 6) Make Predictions\n"
   ]
  },
  {
   "cell_type": "code",
   "execution_count": null,
   "id": "1746c675",
   "metadata": {},
   "outputs": [],
   "source": [
    "\n",
    "y_pred = model.predict(X_test)\n",
    "y_pred[:5]\n"
   ]
  },
  {
   "cell_type": "markdown",
   "id": "2184a4e1",
   "metadata": {},
   "source": [
    "\n",
    "## 7) Evaluate the Model\n",
    "\n",
    "We'll use **Mean Absolute Error (MAE)** and **R² score** (goodness of fit).\n"
   ]
  },
  {
   "cell_type": "code",
   "execution_count": null,
   "id": "6eae050a",
   "metadata": {},
   "outputs": [],
   "source": [
    "\n",
    "mae = mean_absolute_error(y_test, y_pred)\n",
    "r2 = r2_score(y_test, y_pred)\n",
    "\n",
    "print(\"Mean Absolute Error:\", round(mae, 3))\n",
    "print(\"R² score:\", round(r2, 3))\n"
   ]
  },
  {
   "cell_type": "markdown",
   "id": "50adebd4",
   "metadata": {},
   "source": [
    "\n",
    "## 8) Visualize Predictions vs Actual\n"
   ]
  },
  {
   "cell_type": "code",
   "execution_count": null,
   "id": "db709011",
   "metadata": {},
   "outputs": [],
   "source": [
    "\n",
    "plt.figure(figsize=(6, 6))\n",
    "plt.scatter(y_test, y_pred, alpha=0.3)\n",
    "plt.plot([y_test.min(), y_test.max()], [y_test.min(), y_test.max()], 'r--')\n",
    "plt.xlabel(\"Actual Values\")\n",
    "plt.ylabel(\"Predicted Values\")\n",
    "plt.title(\"Predicted vs Actual Median House Value\")\n",
    "plt.show()\n"
   ]
  },
  {
   "cell_type": "markdown",
   "id": "1d83e811",
   "metadata": {},
   "source": [
    "\n",
    "## 9) Mini Assignment – Try Another Model\n",
    "\n",
    "Switch to **DecisionTreeRegressor** or **RandomForestRegressor** and compare results.\n",
    "\n",
    "Example:\n",
    "```python\n",
    "from sklearn.tree import DecisionTreeRegressor\n",
    "model = DecisionTreeRegressor(max_depth=5, random_state=42)\n",
    "model.fit(X_train, y_train)\n",
    "```\n"
   ]
  },
  {
   "cell_type": "markdown",
   "id": "f5031d63",
   "metadata": {},
   "source": [
    "\n",
    "## ✅ Week 4 Deliverables\n",
    "- Load and inspect dataset\n",
    "- Train/test split\n",
    "- Train **Linear Regression** model\n",
    "- Evaluate with MAE and R²\n",
    "- Visualize predictions\n",
    "- (Bonus) Try another model and compare\n",
    "\n",
    "**Next (Week 5):** Classification models (e.g., predicting categories instead of numbers).\n"
   ]
  },
  {
   "cell_type": "markdown",
   "id": "c0b5e220",
   "metadata": {},
   "source": [
    "\n",
    "---\n",
    "\n",
    "### 📤 Save Your Work to GitHub\n",
    "1) File → Download → Download `.ipynb`  \n",
    "2) In GitHub Desktop, **Show in Explorer** → copy the file into your `ai-journey` repo  \n",
    "3) Commit: `Add Week 4 Colab notebook` → **Push origin`  \n",
    "4) Add a new section in `README.md` with an **Open in Colab** badge pointing to:  \n",
    "   `https://colab.research.google.com/github/YOUR_USERNAME/ai-journey/blob/main/Week_4_Intro_to_Machine_Learning_Colab.ipynb`\n"
   ]
  }
 ],
 "metadata": {},
 "nbformat": 4,
 "nbformat_minor": 5
}

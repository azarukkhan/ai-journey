{
 "cells": [
  {
   "cell_type": "markdown",
   "id": "a7f44616",
   "metadata": {},
   "source": [
    "\n",
    "# Week 4+ Mini‑Project — Business Regression (Consulting Style, Colab)\n",
    "\n",
    "**Goal:** build and compare two models (Linear Regression & Random Forest) to predict a business KPI, write a short stakeholder summary, and export your results.\n",
    "\n",
    "You can either **(A)** generate a realistic synthetic dataset right here (recommended), or **(B)** upload your own CSV with similar columns.\n",
    "\n",
    "---\n",
    "\n",
    "## 📦 What you'll do\n",
    "1. Create or upload a dataset (sales-style or support-style)\n",
    "2. Explore & clean\n",
    "3. Train/test split\n",
    "4. Baseline: Linear Regression\n",
    "5. Model 2: Random Forest\n",
    "6. Compare MAE & R²\n",
    "7. Feature importance\n",
    "8. Export predictions + a 5-bullet stakeholder summary\n"
   ]
  },
  {
   "cell_type": "markdown",
   "id": "a709af35",
   "metadata": {},
   "source": [
    "## 0) Choose your dataset"
   ]
  },
  {
   "cell_type": "code",
   "execution_count": null,
   "id": "6ca5e6ea",
   "metadata": {},
   "outputs": [],
   "source": [
    "\n",
    "import pandas as pd\n",
    "import numpy as np\n",
    "\n",
    "np.random.seed(42)\n",
    "\n",
    "# OPTION A — Generate a realistic synthetic SALES dataset\n",
    "def make_sales_data(n=800):\n",
    "    # Features\n",
    "    weeks = np.arange(1, n+1)\n",
    "    marketing_spend = np.random.gamma(shape=6, scale=150, size=n).round(0)\n",
    "    price = np.random.normal(loc=49, scale=5, size=n).round(2)\n",
    "    season = np.sin(2*np.pi*weeks/52)\n",
    "    promo = np.random.binomial(1, 0.25, size=n)\n",
    "    web_visits = (np.random.normal(5000, 900, size=n) + 800*promo + 400*season).round(0)\n",
    "\n",
    "    # Outcome with noise\n",
    "    base = 1200 + 0.6*marketing_spend - 20*price + 900*season + 500*promo + 0.2*web_visits\n",
    "    noise = np.random.normal(0, 300, size=n)\n",
    "    sales = (base + noise).clip(min=0).round(0)\n",
    "\n",
    "    df = pd.DataFrame({\n",
    "        \"week\": weeks,\n",
    "        \"marketing_spend\": marketing_spend,\n",
    "        \"price\": price,\n",
    "        \"promo\": promo,\n",
    "        \"web_visits\": web_visits,\n",
    "        \"sales\": sales\n",
    "    })\n",
    "    return df\n",
    "\n",
    "# OPTION B — Generate a realistic synthetic SUPPORT dataset\n",
    "def make_support_data(n=600):\n",
    "    days = pd.date_range(\"2024-01-01\", periods=n, freq=\"D\")\n",
    "    vip = np.random.binomial(1, 0.2, size=n)\n",
    "    agents = np.random.choice([\"Amara\",\"Liam\",\"Noor\",\"Chen\",\"Sofia\"], size=n, p=[0.25,0.2,0.2,0.2,0.15])\n",
    "    tickets = np.random.poisson(140 + 25*vip, size=n)\n",
    "    backlog = np.maximum(0, np.random.normal(80, 30, size=n)).round(0)\n",
    "    first_response_min = np.random.normal(42 - 6*vip + 0.03*backlog, 5, size=n).round(1)\n",
    "    same_day_rate = np.clip(np.random.normal(0.78 - 0.002*backlog + 0.05*vip, 0.05, size=n), 0, 1)\n",
    "    csat = np.clip(np.random.normal(4.4 + 0.3*vip - 0.01*(first_response_min-40), 0.25, size=n), 1, 5).round(2)\n",
    "    next_day_tickets = np.roll(tickets, -1)\n",
    "    next_day_tickets[-1] = int(next_day_tickets[:-1].mean())\n",
    "\n",
    "    df = pd.DataFrame({\n",
    "        \"date\": days,\n",
    "        \"vip_ratio\": vip,\n",
    "        \"agent\": agents,\n",
    "        \"tickets\": tickets,\n",
    "        \"backlog\": backlog,\n",
    "        \"first_response_min\": first_response_min,\n",
    "        \"same_day_rate\": same_day_rate,\n",
    "        \"csat\": csat,\n",
    "        \"next_day_tickets\": next_day_tickets\n",
    "    })\n",
    "    return df\n",
    "\n",
    "# Pick ONE option here:\n",
    "DATASET = \"sales\"   # change to \"support\" if you prefer\n",
    "\n",
    "if DATASET == \"sales\":\n",
    "    df = make_sales_data()\n",
    "    target_col = \"sales\"\n",
    "    feature_cols = [\"marketing_spend\", \"price\", \"promo\", \"web_visits\", \"week\"]\n",
    "elif DATASET == \"support\":\n",
    "    df = make_support_data()\n",
    "    target_col = \"next_day_tickets\"\n",
    "    df[\"agent\"] = df[\"agent\"].astype(\"category\")\n",
    "    df[\"agent_code\"] = df[\"agent\"].cat.codes\n",
    "    feature_cols = [\"vip_ratio\", \"tickets\", \"backlog\", \"first_response_min\", \"same_day_rate\", \"csat\", \"agent_code\"]\n",
    "else:\n",
    "    raise ValueError(\"DATASET must be 'sales' or 'support'\")\n",
    "\n",
    "print(\"Dataset:\", DATASET)\n",
    "df.head()\n"
   ]
  },
  {
   "cell_type": "markdown",
   "id": "6328528a",
   "metadata": {},
   "source": [
    "\n",
    "### (Optional) Upload your own CSV\n",
    "Your file should have a **target column** (what to predict) and feature columns.\n"
   ]
  },
  {
   "cell_type": "code",
   "execution_count": null,
   "id": "c3709731",
   "metadata": {},
   "outputs": [],
   "source": [
    "\n",
    "# Uncomment to upload your own\n",
    "# from google.colab import files\n",
    "# uploaded = files.upload()\n",
    "# import io\n",
    "# df = pd.read_csv(io.BytesIO(next(iter(uploaded.values()))))\n",
    "# target_col = \"YOUR_TARGET_COLUMN\"\n",
    "# feature_cols = [c for c in df.columns if c != target_col]\n",
    "# df.head()\n"
   ]
  },
  {
   "cell_type": "markdown",
   "id": "f86643e8",
   "metadata": {},
   "source": [
    "## 1) Explore & clean"
   ]
  },
  {
   "cell_type": "code",
   "execution_count": null,
   "id": "c31637f0",
   "metadata": {},
   "outputs": [],
   "source": [
    "\n",
    "df.info()\n"
   ]
  },
  {
   "cell_type": "code",
   "execution_count": null,
   "id": "7f2aafde",
   "metadata": {},
   "outputs": [],
   "source": [
    "\n",
    "# Basic summaries\n",
    "display(df.describe(include='all'))\n",
    "print(\"Missing values per column:\")\n",
    "print(df.isna().sum())\n"
   ]
  },
  {
   "cell_type": "code",
   "execution_count": null,
   "id": "77281043",
   "metadata": {},
   "outputs": [],
   "source": [
    "\n",
    "# Simple cleanup\n",
    "df_clean = df.dropna().copy()\n",
    "len(df), len(df_clean)\n"
   ]
  },
  {
   "cell_type": "markdown",
   "id": "da122068",
   "metadata": {},
   "source": [
    "## 2) Train / Test split"
   ]
  },
  {
   "cell_type": "code",
   "execution_count": null,
   "id": "8fce48a5",
   "metadata": {},
   "outputs": [],
   "source": [
    "\n",
    "from sklearn.model_selection import train_test_split\n",
    "\n",
    "X = df_clean[feature_cols]\n",
    "y = df_clean[target_col]\n",
    "\n",
    "X_train, X_test, y_train, y_test = train_test_split(\n",
    "    X, y, test_size=0.2, random_state=42\n",
    ")\n",
    "\n",
    "X_train.shape, X_test.shape\n"
   ]
  },
  {
   "cell_type": "markdown",
   "id": "de5f8fc5",
   "metadata": {},
   "source": [
    "## 3) Baseline — Linear Regression"
   ]
  },
  {
   "cell_type": "code",
   "execution_count": null,
   "id": "bac0368f",
   "metadata": {},
   "outputs": [],
   "source": [
    "\n",
    "from sklearn.linear_model import LinearRegression\n",
    "from sklearn.metrics import mean_absolute_error, r2_score\n",
    "\n",
    "lin = LinearRegression()\n",
    "lin.fit(X_train, y_train)\n",
    "lin_pred = lin.predict(X_test)\n",
    "\n",
    "lin_mae = mean_absolute_error(y_test, lin_pred)\n",
    "lin_r2  = r2_score(y_test, lin_pred)\n",
    "\n",
    "print(\"Linear Regression → MAE:\", round(lin_mae,2), \" R²:\", round(lin_r2,3))\n"
   ]
  },
  {
   "cell_type": "markdown",
   "id": "e29a2358",
   "metadata": {},
   "source": [
    "## 4) Model 2 — Random Forest"
   ]
  },
  {
   "cell_type": "code",
   "execution_count": null,
   "id": "2e690e09",
   "metadata": {},
   "outputs": [],
   "source": [
    "\n",
    "from sklearn.ensemble import RandomForestRegressor\n",
    "\n",
    "rf = RandomForestRegressor(n_estimators=300, random_state=42, n_jobs=-1)\n",
    "rf.fit(X_train, y_train)\n",
    "rf_pred = rf.predict(X_test)\n",
    "\n",
    "rf_mae = mean_absolute_error(y_test, rf_pred)\n",
    "rf_r2  = r2_score(y_test, rf_pred)\n",
    "\n",
    "print(\"Random Forest     → MAE:\", round(rf_mae,2), \" R²:\", round(rf_r2,3))\n",
    "print(\"\\nComparison (lower MAE, higher R² is better)\")\n",
    "print(f\"Linear     → MAE={lin_mae:.2f}, R²={lin_r2:.3f}\")\n",
    "print(f\"RandomForest→ MAE={rf_mae:.2f}, R²={rf_r2:.3f}\")\n"
   ]
  },
  {
   "cell_type": "markdown",
   "id": "d86cc881",
   "metadata": {},
   "source": [
    "## 5) Feature Importance (Random Forest)"
   ]
  },
  {
   "cell_type": "code",
   "execution_count": null,
   "id": "e98cf02e",
   "metadata": {},
   "outputs": [],
   "source": [
    "\n",
    "import pandas as pd\n",
    "importance = pd.Series(rf.feature_importances_, index=feature_cols).sort_values(ascending=False)\n",
    "importance\n"
   ]
  },
  {
   "cell_type": "markdown",
   "id": "89054544",
   "metadata": {},
   "source": [
    "## 6) Visual Check — Predicted vs Actual"
   ]
  },
  {
   "cell_type": "code",
   "execution_count": null,
   "id": "7f54908f",
   "metadata": {},
   "outputs": [],
   "source": [
    "\n",
    "import matplotlib.pyplot as plt\n",
    "\n",
    "plt.figure()\n",
    "plt.scatter(y_test, rf_pred, alpha=0.3)\n",
    "plt.plot([y_test.min(), y_test.max()], [y_test.min(), y_test.max()], '--')\n",
    "plt.xlabel(\"Actual\")\n",
    "plt.ylabel(\"Predicted\")\n",
    "plt.title(\"Predicted vs Actual (Random Forest)\")\n",
    "plt.show()\n"
   ]
  },
  {
   "cell_type": "markdown",
   "id": "3d258670",
   "metadata": {},
   "source": [
    "## 7) Export predictions"
   ]
  },
  {
   "cell_type": "code",
   "execution_count": null,
   "id": "f097e24b",
   "metadata": {},
   "outputs": [],
   "source": [
    "\n",
    "pred_df = X_test.copy()\n",
    "pred_df[\"actual\"] = y_test.values\n",
    "pred_df[\"predicted_rf\"] = rf_pred\n",
    "pred_df[\"predicted_lin\"] = lin_pred\n",
    "\n",
    "pred_path = \"mini_project_predictions.csv\"\n",
    "pred_df.to_csv(pred_path, index=False)\n",
    "pred_path\n"
   ]
  },
  {
   "cell_type": "markdown",
   "id": "25b85596",
   "metadata": {},
   "source": [
    "## 8) Stakeholder summary (fill these bullets)"
   ]
  },
  {
   "cell_type": "markdown",
   "id": "b6d56da4",
   "metadata": {},
   "source": [
    "\n",
    "- **Business question:** What are we predicting and why does it matter?  \n",
    "- **Data used:** Rows/columns, key features included.  \n",
    "- **Model comparison:** Linear vs Random Forest — which performed better (MAE, R²) and by how much?  \n",
    "- **Drivers:** Top 3 most important features and the intuitive story behind them.  \n",
    "- **Action:** One recommendation the business can try next (e.g., adjust pricing, schedule promo weeks, manage backlog).  \n"
   ]
  }
 ],
 "metadata": {},
 "nbformat": 4,
 "nbformat_minor": 5
}

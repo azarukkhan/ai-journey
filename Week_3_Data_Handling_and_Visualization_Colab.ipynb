{
 "cells": [
  {
   "cell_type": "markdown",
   "id": "a05d22fe",
   "metadata": {},
   "source": [
    "\n",
    "# Week 3 – Data Handling & Visualization (Colab Format)\n",
    "\n",
    "This week you’ll learn **pandas** for data handling and **matplotlib** for charts. No heavy math—just practical skills to clean, explore, and present data clearly.\n",
    "\n",
    "**How to use in Google Colab**\n",
    "1. Download this notebook.\n",
    "2. Open https://colab.research.google.com\n",
    "3. File → Upload notebook → select this file.\n",
    "4. Run cells top to bottom (Shift + Enter).\n",
    "\n",
    "---\n",
    "\n",
    "## 📚 Free Learning Resources\n",
    "- Kaggle: **Python** → https://www.kaggle.com/learn/python  \n",
    "- Kaggle: **Pandas** → https://www.kaggle.com/learn/pandas  \n",
    "- Matplotlib Tutorials → https://matplotlib.org/stable/tutorials/index.html  \n"
   ]
  },
  {
   "cell_type": "markdown",
   "id": "f8ddcbfc",
   "metadata": {},
   "source": [
    "\n",
    "## 0) Setup\n",
    "\n",
    "We'll use built-in libraries available in Colab.\n"
   ]
  },
  {
   "cell_type": "code",
   "execution_count": null,
   "id": "239c1eb4",
   "metadata": {},
   "outputs": [],
   "source": [
    "\n",
    "import pandas as pd\n",
    "import numpy as np\n",
    "import matplotlib.pyplot as plt\n",
    "\n",
    "pd.set_option('display.max_rows', 10)\n",
    "pd.__version__, np.__version__\n"
   ]
  },
  {
   "cell_type": "markdown",
   "id": "64aeda77",
   "metadata": {},
   "source": [
    "\n",
    "## 1) Create a Sample Dataset (No Downloads Needed)\n",
    "\n",
    "We'll simulate a small customer support dataset with simple issues, dates, and values—handy for learning.\n"
   ]
  },
  {
   "cell_type": "code",
   "execution_count": null,
   "id": "9bda7d32",
   "metadata": {},
   "outputs": [],
   "source": [
    "\n",
    "import numpy as np\n",
    "import pandas as pd\n",
    "\n",
    "rng = pd.date_range(\"2024-01-01\", periods=120, freq=\"D\")\n",
    "np.random.seed(42)\n",
    "\n",
    "df = pd.DataFrame({\n",
    "    \"date\": rng,\n",
    "    \"channel\": np.random.choice([\"email\", \"chat\", \"phone\"], size=len(rng), p=[0.4, 0.45, 0.15]),\n",
    "    \"tickets\": np.random.poisson(lam=140, size=len(rng)),\n",
    "    \"first_response_min\": np.random.normal(loc=42, scale=5, size=len(rng)).round(1),\n",
    "    \"resolved_same_day\": np.random.binomial(n=1, p=0.78, size=len(rng)),\n",
    "})\n",
    "\n",
    "# Introduce a few missing values\n",
    "df.loc[np.random.choice(df.index, 6, replace=False), \"first_response_min\"] = np.nan\n",
    "df.head()\n"
   ]
  },
  {
   "cell_type": "markdown",
   "id": "34976405",
   "metadata": {},
   "source": [
    "\n",
    "## 2) Inspect & Clean\n",
    "\n",
    "Find missing values, fill or drop them, and create new columns.\n"
   ]
  },
  {
   "cell_type": "code",
   "execution_count": null,
   "id": "4ae645ac",
   "metadata": {},
   "outputs": [],
   "source": [
    "\n",
    "# Overview\n",
    "print(df.info())\n",
    "print(\"\\nMissing values per column:\")\n",
    "print(df.isna().sum())\n",
    "\n",
    "# Fill missing response times with the median (simple, practical choice)\n",
    "median_frt = df[\"first_response_min\"].median()\n",
    "df[\"first_response_min\"] = df[\"first_response_min\"].fillna(median_frt)\n",
    "\n",
    "# Add helpful columns\n",
    "df[\"day\"] = df[\"date\"].dt.day_name()\n",
    "df[\"week\"] = df[\"date\"].dt.isocalendar().week.astype(int)\n",
    "df[\"month\"] = df[\"date\"].dt.to_period(\"M\").astype(str)\n",
    "\n",
    "df.head()\n"
   ]
  },
  {
   "cell_type": "markdown",
   "id": "5cf13a7e",
   "metadata": {},
   "source": [
    "\n",
    "## 3) Simple GroupBys (Business-Friendly KPIs)\n",
    "\n",
    "Aggregate by week/month/channel to get easy insights.\n"
   ]
  },
  {
   "cell_type": "code",
   "execution_count": null,
   "id": "ac14d7ae",
   "metadata": {},
   "outputs": [],
   "source": [
    "\n",
    "weekly = df.groupby(\"week\").agg(\n",
    "    tickets_total=(\"tickets\", \"sum\"),\n",
    "    avg_first_response=(\"first_response_min\", \"mean\"),\n",
    "    same_day_rate=(\"resolved_same_day\", \"mean\"),\n",
    ").reset_index()\n",
    "\n",
    "monthly = df.groupby(\"month\").agg(\n",
    "    tickets_total=(\"tickets\", \"sum\"),\n",
    "    avg_first_response=(\"first_response_min\", \"mean\"),\n",
    "    same_day_rate=(\"resolved_same_day\", \"mean\"),\n",
    ").reset_index()\n",
    "\n",
    "by_channel = df.groupby(\"channel\").agg(\n",
    "    tickets_total=(\"tickets\", \"sum\"),\n",
    "    avg_first_response=(\"first_response_min\", \"mean\"),\n",
    "    same_day_rate=(\"resolved_same_day\", \"mean\"),\n",
    ").reset_index()\n",
    "\n",
    "weekly.head(), monthly.head(), by_channel\n"
   ]
  },
  {
   "cell_type": "markdown",
   "id": "5606a555",
   "metadata": {},
   "source": [
    "\n",
    "## 4) Visualize Trends (One Chart per Cell)\n",
    "\n",
    "Keep charts simple and readable.\n"
   ]
  },
  {
   "cell_type": "code",
   "execution_count": null,
   "id": "11adb4dc",
   "metadata": {},
   "outputs": [],
   "source": [
    "\n",
    "# Tickets per week (line)\n",
    "plt.figure()\n",
    "plt.plot(weekly[\"week\"], weekly[\"tickets_total\"], marker=\"o\")\n",
    "plt.title(\"Tickets per Week\")\n",
    "plt.xlabel(\"Week #\")\n",
    "plt.ylabel(\"Total Tickets\")\n",
    "plt.show()\n"
   ]
  },
  {
   "cell_type": "code",
   "execution_count": null,
   "id": "dca140b1",
   "metadata": {},
   "outputs": [],
   "source": [
    "\n",
    "# Average first response by month (bar)\n",
    "plt.figure()\n",
    "plt.bar(monthly[\"month\"], monthly[\"avg_first_response\"])\n",
    "plt.title(\"Average First Response Time by Month\")\n",
    "plt.xlabel(\"Month\")\n",
    "plt.ylabel(\"Minutes\")\n",
    "plt.xticks(rotation=45)\n",
    "plt.show()\n"
   ]
  },
  {
   "cell_type": "code",
   "execution_count": null,
   "id": "373f1192",
   "metadata": {},
   "outputs": [],
   "source": [
    "\n",
    "# Tickets by channel (bar)\n",
    "plt.figure()\n",
    "plt.bar(by_channel[\"channel\"], by_channel[\"tickets_total\"])\n",
    "plt.title(\"Tickets by Channel\")\n",
    "plt.xlabel(\"Channel\")\n",
    "plt.ylabel(\"Total Tickets\")\n",
    "plt.show()\n"
   ]
  },
  {
   "cell_type": "markdown",
   "id": "3b0cdc3e",
   "metadata": {},
   "source": [
    "\n",
    "## 5) Filter & Sort (Answer Questions Quickly)\n",
    "\n",
    "Find days needing attention.\n"
   ]
  },
  {
   "cell_type": "code",
   "execution_count": null,
   "id": "27753b84",
   "metadata": {},
   "outputs": [],
   "source": [
    "\n",
    "# Days where first response is above 48 minutes (possible SLA risk)\n",
    "sla_risk = df[df[\"first_response_min\"] > 48].sort_values(\"first_response_min\", ascending=False)\n",
    "sla_risk.head(10)\n"
   ]
  },
  {
   "cell_type": "markdown",
   "id": "edd098c9",
   "metadata": {},
   "source": [
    "\n",
    "## 6) Merge/Join Example (Optional)\n",
    "\n",
    "Create a tiny lookup table and merge to enrich your dataset.\n"
   ]
  },
  {
   "cell_type": "code",
   "execution_count": null,
   "id": "e16831f1",
   "metadata": {},
   "outputs": [],
   "source": [
    "\n",
    "lookup = pd.DataFrame({\n",
    "    \"channel\": [\"email\", \"chat\", \"phone\"],\n",
    "    \"cost_per_ticket\": [1.2, 0.9, 2.0],\n",
    "})\n",
    "enriched = df.merge(lookup, on=\"channel\", how=\"left\")\n",
    "enriched[\"estimated_daily_cost\"] = enriched[\"tickets\"] * enriched[\"cost_per_ticket\"]\n",
    "enriched.head()\n"
   ]
  },
  {
   "cell_type": "markdown",
   "id": "6544f691",
   "metadata": {},
   "source": [
    "\n",
    "## 7) Export Cleaned Data (Shareable Output)\n",
    "\n",
    "You can download the cleaned dataset as a CSV from Colab.\n"
   ]
  },
  {
   "cell_type": "code",
   "execution_count": null,
   "id": "6623c99d",
   "metadata": {},
   "outputs": [],
   "source": [
    "\n",
    "clean_path = \"/content/cleaned_support_data.csv\"  # Colab path\n",
    "df.to_csv(clean_path, index=False)\n",
    "clean_path\n"
   ]
  },
  {
   "cell_type": "markdown",
   "id": "749087e6",
   "metadata": {},
   "source": [
    "\n",
    "## 8) Mini Assignment – Plain-English Findings\n",
    "\n",
    "Answer these in your own words (short bullets are fine):\n",
    "- Which **week** had the most tickets?  \n",
    "- Is average **first response time** improving or getting worse month-to-month?  \n",
    "- Which **channel** drives most tickets? What would you try operationally?  \n",
    "\n",
    "*(Double-click this cell in Colab to edit, then Ctrl/Cmd+Enter to save.)*\n"
   ]
  },
  {
   "cell_type": "markdown",
   "id": "fb3064b2",
   "metadata": {},
   "source": [
    "\n",
    "## ✅ Week 3 Deliverables\n",
    "- Cleaned dataset with missing values handled\n",
    "- At least **two charts** (weekly tickets, monthly response times, by channel)\n",
    "- A short plain-English summary of findings for stakeholders\n",
    "- (Optional) Exported `cleaned_support_data.csv` for sharing\n",
    "\n",
    "**Next (Week 4):** Intro to Machine Learning with scikit-learn.\n"
   ]
  },
  {
   "cell_type": "markdown",
   "id": "e5e4415f",
   "metadata": {},
   "source": [
    "\n",
    "---\n",
    "\n",
    "### 📤 Save Your Work to GitHub\n",
    "1) File → Download → Download `.ipynb`  \n",
    "2) In GitHub Desktop, **Show in Explorer** → copy the file into your `ai-journey` repo  \n",
    "3) Commit: `Add Week 3 Colab notebook` → **Push origin`  \n",
    "4) Add a new section in `README.md` with an **Open in Colab** badge pointing to:  \n",
    "   `https://colab.research.google.com/github/YOUR_USERNAME/ai-journey/blob/main/Week_3_Data_Handling_and_Visualization_Colab.ipynb`\n"
   ]
  }
 ],
 "metadata": {},
 "nbformat": 4,
 "nbformat_minor": 5
}

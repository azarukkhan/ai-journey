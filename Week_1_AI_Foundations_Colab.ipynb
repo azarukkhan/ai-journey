{
 "cells": [
  {
   "cell_type": "markdown",
   "id": "be65115a",
   "metadata": {},
   "source": [
    "\n",
    "# Week 1 – AI Foundations & Business Impact (Colab Format)\n",
    "\n",
    "Welcome! This notebook is designed for **Google Colab**. It focuses on understanding **what AI is, how it creates business value**, and gives you a tiny taste of Python—**without heavy math**.\n",
    "\n",
    "**How to use in Google Colab:**\n",
    "1. Download this notebook.\n",
    "2. Open [Google Colab](https://colab.research.google.com/).\n",
    "3. Click **File → Upload notebook** and select this file.\n",
    "4. Run cells from top to bottom (Shift + Enter).\n",
    "\n",
    "---\n",
    "\n",
    "## 📚 Free Learning Resources (Week 1)\n",
    "- **AI for Everyone – Andrew Ng (Free Audit):** https://www.coursera.org/learn/ai-for-everyone\n",
    "- **McKinsey – What is AI?:** https://www.mckinsey.com/featured-insights/artificial-intelligence/what-is-ai\n",
    "\n",
    "> Tip: Skim both and write your takeaways directly in the cell below.\n"
   ]
  },
  {
   "cell_type": "markdown",
   "id": "e7dccfa8",
   "metadata": {},
   "source": [
    "\n",
    "## ✍️ Exercise 1: Your Industry & AI Opportunities\n",
    "\n",
    "In a few sentences, jot down:\n",
    "- The industry you know best\n",
    "- 2–3 pain points or repetitive processes\n",
    "- A guess at where AI could help (e.g., triaging support tickets, customer churn alerts, summarising reports)\n",
    "\n",
    "**Write your thoughts here:** (double-click to edit this cell in Colab, then press Ctrl/Cmd+Enter to save)\n"
   ]
  },
  {
   "cell_type": "markdown",
   "id": "295c7ffc",
   "metadata": {},
   "source": [
    "\n",
    "## 🧪 Tiny Python Warm‑up (No Setup Needed)\n",
    "\n",
    "Run the next two cells to see basic Python in action. No installations required in Colab.\n"
   ]
  },
  {
   "cell_type": "code",
   "execution_count": null,
   "id": "963098a7",
   "metadata": {},
   "outputs": [],
   "source": [
    "\n",
    "# Basic Python: variables and f-strings\n",
    "your_name = \"Your Name\"\n",
    "industry = \"Your Industry\"\n",
    "goals = [\"Learn practical AI\", \"Build a small demo\", \"Create a consulting proposal\"]\n",
    "\n",
    "print(f\"Hello, {your_name}!\")\n",
    "print(f\"Industry focus: {industry}\")\n",
    "print(\"Your Week 1 goals:\")\n",
    "for i, g in enumerate(goals, start=1):\n",
    "    print(f\"{i}. {g}\")\n"
   ]
  },
  {
   "cell_type": "code",
   "execution_count": null,
   "id": "bf683b2b",
   "metadata": {},
   "outputs": [],
   "source": [
    "\n",
    "# Simple data as a starting point (no external files needed)\n",
    "# Imagine these are monthly support tickets; we'll compute a simple trend.\n",
    "import pandas as pd\n",
    "\n",
    "data = {\n",
    "    \"month\": [\"Jan\", \"Feb\", \"Mar\", \"Apr\", \"May\", \"Jun\"],\n",
    "    \"tickets\": [120, 140, 150, 170, 160, 190],\n",
    "    \"first_response_time_min\": [45, 44, 42, 40, 39, 37],\n",
    "}\n",
    "df = pd.DataFrame(data)\n",
    "df\n"
   ]
  },
  {
   "cell_type": "code",
   "execution_count": null,
   "id": "f384828c",
   "metadata": {},
   "outputs": [],
   "source": [
    "\n",
    "# Minimal analysis: averages and simple trend insight\n",
    "avg_tickets = df[\"tickets\"].mean()\n",
    "avg_frt = df[\"first_response_time_min\"].mean()\n",
    "\n",
    "print(\"Average monthly tickets:\", round(avg_tickets, 1))\n",
    "print(\"Average first response time (min):\", round(avg_frt, 1))\n",
    "\n",
    "# Quick plain-English summary (what you might tell stakeholders)\n",
    "if df[\"tickets\"].iloc[-1] > df[\"tickets\"].iloc[0]:\n",
    "    trend = \"increasing\"\n",
    "else:\n",
    "    trend = \"decreasing or flat\"\n",
    "\n",
    "print(f\"Summary: Ticket volume appears {trend} over the last 6 months, while first response time is improving slightly.\")\n"
   ]
  },
  {
   "cell_type": "code",
   "execution_count": null,
   "id": "9b416262",
   "metadata": {},
   "outputs": [],
   "source": [
    "\n",
    "# Quick visualization\n",
    "import matplotlib.pyplot as plt\n",
    "\n",
    "plt.figure()\n",
    "plt.plot(df[\"month\"], df[\"tickets\"], marker=\"o\")\n",
    "plt.title(\"Monthly Support Tickets (Sample Data)\")\n",
    "plt.xlabel(\"Month\")\n",
    "plt.ylabel(\"Tickets\")\n",
    "plt.show()\n"
   ]
  },
  {
   "cell_type": "markdown",
   "id": "36d4a1a6",
   "metadata": {},
   "source": [
    "\n",
    "## 🧩 Exercise 2: Business Framing (Minimal Math)\n",
    "\n",
    "Answer these in your own words (short bullets are fine):\n",
    "- What business question are we answering with the small dataset above?  \n",
    "- Which metric would a stakeholder care about most (tickets, response time, both)? Why?  \n",
    "- If you had more data (e.g., ticket category, customer tier), what would you try next?  \n",
    "\n",
    "**Write your answers here:** (double-click to edit in Colab)\n"
   ]
  },
  {
   "cell_type": "markdown",
   "id": "ec59302c",
   "metadata": {},
   "source": [
    "\n",
    "## 💼 Exercise 3: Draft a 1‑Page Summary (Client-Friendly)\n",
    "\n",
    "Write a short summary for a manager:\n",
    "- **Problem** (what hurts today)  \n",
    "- **AI Opportunity** (how AI could help, in plain English)  \n",
    "- **Success Metrics** (what good looks like)  \n",
    "- **Next Steps** (a tiny experiment you’d try in Week 4‑7)\n",
    "\n",
    "**Template (you can overwrite):**\n",
    "- Problem:  \n",
    "- AI Opportunity:  \n",
    "- Success Metrics:  \n",
    "- Next Steps:  \n"
   ]
  },
  {
   "cell_type": "markdown",
   "id": "75482356",
   "metadata": {},
   "source": [
    "\n",
    "## ✅ End of Week 1 Deliverables\n",
    "\n",
    "- A short note on your industry and AI opportunities (Exercise 1)\n",
    "- A tiny Python notebook run (warm‑up cells executed)\n",
    "- A plain‑English business framing (Exercises 2 & 3)\n",
    "\n",
    "**Coming next (Week 2):** Python basics (variables, loops, functions) with exercises in Colab.\n"
   ]
  }
 ],
 "metadata": {},
 "nbformat": 4,
 "nbformat_minor": 5
}

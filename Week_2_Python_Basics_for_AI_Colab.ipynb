{
 "cells": [
  {
   "cell_type": "markdown",
   "id": "9b7c9d53",
   "metadata": {},
   "source": [
    "\n",
    "# Week 2 – Python Basics for AI (Colab Format)\n",
    "\n",
    "This notebook is designed for **Google Colab**. You'll learn Python basics you’ll actually use in AI work — variables, data types, lists/dicts, functions, and loops — with tiny tasks that mirror real data work.\n",
    "\n",
    "**How to use in Google Colab**\n",
    "1. Download this notebook.\n",
    "2. Open https://colab.research.google.com\n",
    "3. File → Upload notebook → select this file.\n",
    "4. Run cells from top to bottom (Shift + Enter).\n",
    "\n",
    "---\n",
    "\n",
    "## 📚 Free Learning Resources\n",
    "- W3Schools: https://www.w3schools.com/python/\n",
    "- Kaggle's Free Python Course: https://www.kaggle.com/learn/python\n",
    "- HackerRank Python Practice (easy): https://www.hackerrank.com/domains/tutorials/10-days-of-python\n",
    "\n"
   ]
  },
  {
   "cell_type": "markdown",
   "id": "68b47257",
   "metadata": {},
   "source": [
    "\n",
    "## 1) Variables & Data Types\n",
    "\n",
    "Strings, integers, floats, booleans — these are the building blocks.\n"
   ]
  },
  {
   "cell_type": "code",
   "execution_count": null,
   "id": "9bcb60be",
   "metadata": {},
   "outputs": [],
   "source": [
    "\n",
    "# Run me\n",
    "company = \"Acme Support\"\n",
    "tickets_today = 37           # integer\n",
    "avg_response_time = 41.5     # float (minutes)\n",
    "is_priority_client = True    # boolean\n",
    "\n",
    "print(type(company), type(tickets_today), type(avg_response_time), type(is_priority_client))\n",
    "print(f\"{company} handled {tickets_today} tickets today. Avg first response: {avg_response_time} minutes.\")\n"
   ]
  },
  {
   "cell_type": "markdown",
   "id": "5e4148a6",
   "metadata": {},
   "source": [
    "\n",
    "## 2) Lists & Dictionaries\n",
    "\n",
    "Lists hold ordered items. Dictionaries hold key→value pairs — perfect for labeled data.\n"
   ]
  },
  {
   "cell_type": "code",
   "execution_count": null,
   "id": "c5afde55",
   "metadata": {},
   "outputs": [],
   "source": [
    "\n",
    "# Run me\n",
    "agents = [\"Amara\", \"Liam\", \"Noor\", \"Sofia\"]\n",
    "agent_stats = {\n",
    "    \"Amara\": {\"tickets\": 18, \"csat\": 4.7},\n",
    "    \"Liam\": {\"tickets\": 12, \"csat\": 4.5},\n",
    "    \"Noor\": {\"tickets\": 15, \"csat\": 4.8},\n",
    "    \"Sofia\": {\"tickets\": 10, \"csat\": 4.2},\n",
    "}\n",
    "\n",
    "print(\"Agents:\", agents)\n",
    "print(\"Noor handled:\", agent_stats[\"Noor\"][\"tickets\"], \"tickets\")\n"
   ]
  },
  {
   "cell_type": "markdown",
   "id": "95424791",
   "metadata": {},
   "source": [
    "\n",
    "## 3) Slicing & Filtering\n",
    "\n",
    "Get subsets of data. This mirrors how you'll select relevant rows/columns later with pandas.\n"
   ]
  },
  {
   "cell_type": "code",
   "execution_count": null,
   "id": "2b39707d",
   "metadata": {},
   "outputs": [],
   "source": [
    "\n",
    "# Run me\n",
    "top_two_agents = agents[:2]\n",
    "print(\"Top two agents:\", top_two_agents)\n",
    "\n",
    "# Simple filter: agents with CSAT >= 4.6\n",
    "high_csat = [name for name, stats in agent_stats.items() if stats[\"csat\"] >= 4.6]\n",
    "print(\"High CSAT agents:\", high_csat)\n"
   ]
  },
  {
   "cell_type": "markdown",
   "id": "a753775d",
   "metadata": {},
   "source": [
    "\n",
    "## 4) Functions (Re-usable Logic)\n",
    "\n",
    "You'll write small functions to clean data, compute metrics, etc.\n"
   ]
  },
  {
   "cell_type": "code",
   "execution_count": null,
   "id": "85a0d6a2",
   "metadata": {},
   "outputs": [],
   "source": [
    "\n",
    "# Run me\n",
    "def compute_productivity(tickets, hours):\n",
    "    \"\"\"Tickets per hour (basic metric), rounded to 2 decimals.\"\"\"\n",
    "    if hours == 0:\n",
    "        return 0.0\n",
    "    return round(tickets / hours, 2)\n",
    "\n",
    "print(compute_productivity(18, 7.5))\n",
    "print(compute_productivity(0, 0))\n"
   ]
  },
  {
   "cell_type": "markdown",
   "id": "c953573c",
   "metadata": {},
   "source": [
    "\n",
    "## 5) Mini Dataset (No Downloads Needed)\n",
    "\n",
    "Let's simulate a tiny week of support data for practice.\n"
   ]
  },
  {
   "cell_type": "code",
   "execution_count": null,
   "id": "abc20248",
   "metadata": {},
   "outputs": [],
   "source": [
    "\n",
    "# Run me\n",
    "import pandas as pd\n",
    "\n",
    "week_data = pd.DataFrame({\n",
    "    \"day\": [\"Mon\", \"Tue\", \"Wed\", \"Thu\", \"Fri\"],\n",
    "    \"tickets\": [120, 135, 150, 140, 155],\n",
    "    \"avg_first_response_min\": [45, 44, 42, 41, 40],\n",
    "    \"resolved_same_day\": [100, 112, 126, 121, 134],\n",
    "})\n",
    "week_data\n"
   ]
  },
  {
   "cell_type": "markdown",
   "id": "fa3119b0",
   "metadata": {},
   "source": [
    "\n",
    "## 6) Basic Analysis with Pure Python\n",
    "\n",
    "We'll compute a couple of KPIs without pandas, to build your Python muscle.\n"
   ]
  },
  {
   "cell_type": "code",
   "execution_count": null,
   "id": "863e822f",
   "metadata": {},
   "outputs": [],
   "source": [
    "\n",
    "# Run me\n",
    "days = list(week_data[\"day\"])\n",
    "tickets = list(week_data[\"tickets\"])\n",
    "responses = list(week_data[\"avg_first_response_min\"])\n",
    "\n",
    "avg_tickets = sum(tickets) / len(tickets)\n",
    "best_day = days[tickets.index(max(tickets))]\n",
    "\n",
    "print(\"Average tickets:\", round(avg_tickets, 1))\n",
    "print(\"Busiest day:\", best_day)\n"
   ]
  },
  {
   "cell_type": "markdown",
   "id": "1f3c8be2",
   "metadata": {},
   "source": [
    "\n",
    "## 7) Visualize a Simple Trend (Matplotlib)\n",
    "\n",
    "One plot per chart, default styles only (this is best practice for exercises).\n"
   ]
  },
  {
   "cell_type": "code",
   "execution_count": null,
   "id": "66eb3492",
   "metadata": {},
   "outputs": [],
   "source": [
    "\n",
    "# Run me\n",
    "import matplotlib.pyplot as plt\n",
    "\n",
    "plt.figure()\n",
    "plt.plot(week_data[\"day\"], week_data[\"tickets\"], marker=\"o\")\n",
    "plt.title(\"Tickets per Day (Sample Week)\")\n",
    "plt.xlabel(\"Day\")\n",
    "plt.ylabel(\"Tickets\")\n",
    "plt.show()\n"
   ]
  },
  {
   "cell_type": "markdown",
   "id": "5654ab0e",
   "metadata": {},
   "source": [
    "\n",
    "## 8) Looping + Conditions\n",
    "\n",
    "We'll flag days above a ticket threshold for staffing insights.\n"
   ]
  },
  {
   "cell_type": "code",
   "execution_count": null,
   "id": "8eae510f",
   "metadata": {},
   "outputs": [],
   "source": [
    "\n",
    "# Run me\n",
    "threshold = 145\n",
    "flags = []\n",
    "for d, t in zip(week_data[\"day\"], week_data[\"tickets\"]):\n",
    "    if t > threshold:\n",
    "        flags.append((d, t, \"Consider extra staffing\"))\n",
    "    else:\n",
    "        flags.append((d, t, \"Normal staffing\"))\n",
    "flags\n"
   ]
  },
  {
   "cell_type": "markdown",
   "id": "4c3ec70a",
   "metadata": {},
   "source": [
    "\n",
    "## 9) Practical Exercise – Write Two Functions\n",
    "\n",
    "1) `sla_breaches(avg_first_response_min, target_minutes)` → percent of days where avg > target  \n",
    "2) `throughput(resolved, tickets)` → overall resolution rate (%)\n",
    "\n",
    "> Implement them below and print results for the sample dataset.\n"
   ]
  },
  {
   "cell_type": "code",
   "execution_count": null,
   "id": "55b5d2da",
   "metadata": {},
   "outputs": [],
   "source": [
    "\n",
    "# TODO: Implement the two functions, then run this cell\n",
    "\n",
    "def sla_breaches(avg_first_response_min, target_minutes):\n",
    "    \"\"\"Return the % of days where avg first response exceeded the target.\"\"\"\n",
    "    total = len(avg_first_response_min)\n",
    "    if total == 0:\n",
    "        return 0.0\n",
    "    breaches = sum(1 for v in avg_first_response_min if v > target_minutes)\n",
    "    return round(100 * breaches / total, 2)\n",
    "\n",
    "def throughput(resolved, tickets):\n",
    "    \"\"\"Return overall resolution rate in percent.\"\"\"\n",
    "    total_resolved = sum(resolved)\n",
    "    total_tickets = sum(tickets)\n",
    "    if total_tickets == 0:\n",
    "        return 0.0\n",
    "    return round(100 * total_resolved / total_tickets, 2)\n",
    "\n",
    "# Evaluate on our dataset\n",
    "breach_pct = sla_breaches(list(week_data[\"avg_first_response_min\"]), target_minutes=42)\n",
    "overall_throughput = throughput(list(week_data[\"resolved_same_day\"]), list(week_data[\"tickets\"]))\n",
    "print(\"SLA breach %:\", breach_pct)\n",
    "print(\"Overall same-day resolution %:\", overall_throughput)\n"
   ]
  },
  {
   "cell_type": "markdown",
   "id": "8aa099ca",
   "metadata": {},
   "source": [
    "\n",
    "## 10) Stretch: Tiny Text Cleanup (Bonus)\n",
    "\n",
    "Real data often has messy text. Try normalizing case and trimming spaces.\n"
   ]
  },
  {
   "cell_type": "code",
   "execution_count": null,
   "id": "61fd7710",
   "metadata": {},
   "outputs": [],
   "source": [
    "\n",
    "# Run me\n",
    "raw_notes = [\n",
    "    \"  Password reset needed  \",\n",
    "    \"VIP client: Escalate!\",\n",
    "    \"   Duplicate ticket – close  \",\n",
    "    \"customer CALLED back\",\n",
    "]\n",
    "cleaned = [note.strip().lower() for note in raw_notes]\n",
    "cleaned\n"
   ]
  },
  {
   "cell_type": "markdown",
   "id": "a8ceb741",
   "metadata": {},
   "source": [
    "\n",
    "## ✅ Week 2 Deliverables\n",
    "\n",
    "- Understand variables, lists/dicts, functions, loops\n",
    "- Produce one simple chart with matplotlib\n",
    "- Implement two small business metrics (`sla_breaches`, `throughput`)\n",
    "- (Bonus) Clean a few text notes\n",
    "\n",
    "**Next (Week 3):** Data handling with **pandas** and more visualization.\n"
   ]
  },
  {
   "cell_type": "markdown",
   "id": "d6140e48",
   "metadata": {},
   "source": [
    "\n",
    "---\n",
    "\n",
    "### 📤 Save Your Work to GitHub\n",
    "\n",
    "1. File → Download → Download `.ipynb`  \n",
    "2. In GitHub Desktop, **Show in Explorer** → copy the file into your `ai-journey` repo  \n",
    "3. Commit: `Add Week 2 Colab notebook` → **Push origin**  \n",
    "4. Add a new section in `README.md` with an **Open in Colab** badge pointing to:\n",
    "   `https://colab.research.google.com/github/YOUR_USERNAME/ai-journey/blob/main/Week_2_Python_Basics_for_AI_Colab.ipynb`\n"
   ]
  }
 ],
 "metadata": {},
 "nbformat": 4,
 "nbformat_minor": 5
}

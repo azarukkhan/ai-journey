{
 "cells": [
  {
   "cell_type": "markdown",
   "id": "1c0f7cbc",
   "metadata": {},
   "source": [
    "# 📘 Week 11 - Python Dictionaries in Depth"
   ]
  },
  {
   "cell_type": "code",
   "execution_count": null,
   "id": "af1dc844",
   "metadata": {},
   "outputs": [],
   "source": [
    "# --- Cell 1: Quick refresher ---\n",
    "d = {\"company\": \"Acme\", \"tickets\": 120, \"vip\": True}\n",
    "print(d[\"company\"])        # lookup\n",
    "d[\"region\"] = \"EMEA\"       # add\n",
    "d[\"tickets\"] += 5          # update\n",
    "print(\"vip in dict?\", \"vip\" in d)\n",
    "print(\"Safe get:\", d.get(\"missing\", \"N/A\"))"
   ]
  },
  {
   "cell_type": "code",
   "execution_count": null,
   "id": "77ab07e2",
   "metadata": {},
   "outputs": [],
   "source": [
    "# --- Cell 2: Iteration ---\n",
    "profile = {\"name\": \"Amara\", \"role\": \"Agent\", \"skills\": [\"billing\",\"reset\"], \"csat\": 4.7}\n",
    "\n",
    "for k in profile:\n",
    "    print(k, profile[k])\n",
    "\n",
    "for v in profile.values():\n",
    "    print(v)\n",
    "\n",
    "for k, v in profile.items():\n",
    "    print(k, \"→\", v)\n",
    "\n",
    "profile.pop(\"role\", None)   # safe remove\n",
    "del profile[\"csat\"]\n",
    "print(profile)"
   ]
  },
  {
   "cell_type": "code",
   "execution_count": null,
   "id": "7be0c3a8",
   "metadata": {},
   "outputs": [],
   "source": [
    "# --- Cell 3: Counting with Counter ---\n",
    "from collections import Counter\n",
    "\n",
    "tickets = [\"billing\",\"tech\",\"billing\",\"login\",\"billing\",\"login\"]\n",
    "counts = Counter(tickets)\n",
    "print(\"Counts:\", counts)\n",
    "print(\"Top 2:\", counts.most_common(2))"
   ]
  },
  {
   "cell_type": "code",
   "execution_count": null,
   "id": "4414c830",
   "metadata": {},
   "outputs": [],
   "source": [
    "# --- Cell 4: Grouping with defaultdict ---\n",
    "from collections import defaultdict\n",
    "\n",
    "by_agent = defaultdict(list)\n",
    "rows = [\n",
    "    {\"agent\":\"Amara\",\"ticket\":\"billing\"},\n",
    "    {\"agent\":\"Liam\",\"ticket\":\"tech\"},\n",
    "    {\"agent\":\"Amara\",\"ticket\":\"login\"},\n",
    "]\n",
    "for r in rows:\n",
    "    by_agent[r[\"agent\"]].append(r[\"ticket\"])\n",
    "\n",
    "print(dict(by_agent))"
   ]
  },
  {
   "cell_type": "code",
   "execution_count": null,
   "id": "47650e11",
   "metadata": {},
   "outputs": [],
   "source": [
    "# --- Cell 5: Merging dicts ---\n",
    "base_cfg = {\"model\":\"rf\",\"threshold\":0.5,\"features\":[\"tenure\",\"charges\"]}\n",
    "env_cfg  = {\"threshold\":0.35,\"cache\":True}\n",
    "\n",
    "merged = base_cfg | env_cfg\n",
    "print(\"Merged:\", merged)\n",
    "\n",
    "base_cfg |= {\"explainability\": \"shap\"}\n",
    "print(\"Updated base_cfg:\", base_cfg)\n",
    "\n",
    "merged2 = {**base_cfg, **env_cfg}\n",
    "print(\"Merged (old style):\", merged2)"
   ]
  },
  {
   "cell_type": "code",
   "execution_count": null,
   "id": "88973e8e",
   "metadata": {},
   "outputs": [],
   "source": [
    "# --- Cell 6: Dict comprehensions ---\n",
    "prices = {\"basic\": 9, \"pro\": 29, \"enterprise\": 99}\n",
    "with_vat = {plan: p*1.2 for plan, p in prices.items() if p >= 10}\n",
    "print(with_vat)"
   ]
  },
  {
   "cell_type": "code",
   "execution_count": null,
   "id": "575b6198",
   "metadata": {},
   "outputs": [],
   "source": [
    "# --- Cell 7: Nested dict access ---\n",
    "customer = {\n",
    "  \"id\": 101,\n",
    "  \"profile\": {\"name\":\"Noor\",\"tier\":\"Gold\"},\n",
    "  \"usage\": {\"tickets\":[3,1,0,2], \"web_minutes\": 540}\n",
    "}\n",
    "\n",
    "tier = customer[\"profile\"][\"tier\"]\n",
    "avg_tickets = sum(customer[\"usage\"][\"tickets\"]) / len(customer[\"usage\"][\"tickets\"])\n",
    "print(\"Tier:\", tier, \"Avg tickets:\", avg_tickets)\n",
    "\n",
    "safe_tier = customer.get(\"profile\", {}).get(\"tier\", \"Unknown\")\n",
    "print(\"Safe tier:\", safe_tier)"
   ]
  },
  {
   "cell_type": "code",
   "execution_count": null,
   "id": "8bebd877",
   "metadata": {},
   "outputs": [],
   "source": [
    "# --- Cell 8: JSON in/out ---\n",
    "import json\n",
    "payload = {\"user\":\"chen\",\"risk\":0.82,\"labels\":[\"vip\",\"at_risk\"]}\n",
    "s = json.dumps(payload)\n",
    "print(\"As JSON string:\", s)\n",
    "\n",
    "back = json.loads(s)\n",
    "print(\"Back to dict:\", back)\n",
    "\n",
    "print(\"Pretty:\\n\", json.dumps(payload, indent=2))"
   ]
  },
  {
   "cell_type": "code",
   "execution_count": null,
   "id": "71313569",
   "metadata": {},
   "outputs": [],
   "source": [
    "# --- Cell 9: Exercise A ---\n",
    "rows = [\n",
    "  {\"ticket_id\": 1, \"agent\":\"Amara\", \"topic\":\"billing\"},\n",
    "  {\"ticket_id\": 2, \"agent\":\"Noor\",  \"topic\":\"login\"},\n",
    "  {\"ticket_id\": 3, \"agent\":\"Liam\",  \"topic\":\"billing\"},\n",
    "]\n",
    "index = {r[\"ticket_id\"]: r for r in rows}\n",
    "print(index[2][\"topic\"])  # 'login'\n",
    "\n",
    "# TODO: Add ticket id=4, change agent for id=3 to \"Chen\" "
   ]
  },
  {
   "cell_type": "code",
   "execution_count": null,
   "id": "379328bc",
   "metadata": {},
   "outputs": [],
   "source": [
    "# --- Cell 10: Exercise B ---\n",
    "topics = [\"billing\",\"login\",\"tech\",\"billing\",\"billing\",\"tech\",\"login\"]\n",
    "from collections import Counter\n",
    "ctr = Counter(topics)\n",
    "print(\"Top 2:\", dict(ctr.most_common(2)))\n",
    "\n",
    "# TODO: convert ctr to percentages "
   ]
  },
  {
   "cell_type": "code",
   "execution_count": null,
   "id": "92414af8",
   "metadata": {},
   "outputs": [],
   "source": [
    "# --- Cell 11: Exercise C ---\n",
    "data = [\n",
    "  {\"agent\":\"Amara\",\"csat\":4.7,\"t\":\"billing\"},\n",
    "  {\"agent\":\"Amara\",\"csat\":4.5,\"t\":\"login\"},\n",
    "  {\"agent\":\"Liam\",\"csat\":4.2,\"t\":\"tech\"},\n",
    "  {\"agent\":\"Noor\",\"csat\":4.9,\"t\":\"billing\"},\n",
    "]\n",
    "\n",
    "from collections import defaultdict\n",
    "csat_by_agent = defaultdict(list)\n",
    "for r in data:\n",
    "    csat_by_agent[r[\"agent\"]].append(r[\"csat\"])\n",
    "\n",
    "avg_by_agent = {a: round(sum(v)/len(v),2) for a, v in csat_by_agent.items()}\n",
    "print(\"Avg CSAT:\", avg_by_agent)\n",
    "\n",
    "# TODO: also produce counts per agent from csat_by_agent"
   ]
  },
  {
   "cell_type": "code",
   "execution_count": null,
   "id": "b5de8577",
   "metadata": {},
   "outputs": [],
   "source": [
    "# --- Cell 12: Quick quiz ---\n",
    "logs = [\n",
    "  {\"day\":\"Mon\",\"tickets\":120},\n",
    "  {\"day\":\"Tue\",\"tickets\":140},\n",
    "  {\"day\":\"Mon\",\"tickets\":60},\n",
    "]\n",
    "# Q1: sum tickets per day → {\"Mon\":180, \"Tue\":140}\n",
    "\n",
    "price = {\"basic\":9,\"pro\":29,\"ent\":99}\n",
    "# Q2: 10% discount for plans >=30\n",
    "\n",
    "customer = {\"id\":1, \"profile\":{\"tier\":\"Gold\"}}  # usage may be missing\n",
    "# Q3: safely get usage.minutes (default 0)"
   ]
  },
  {
   "cell_type": "code",
   "execution_count": null,
   "id": "ce853ed1",
   "metadata": {},
   "outputs": [],
   "source": [
    "# --- Solution: Exercise A ---\n",
    "rows = [\n",
    "  {\"ticket_id\": 1, \"agent\":\"Amara\", \"topic\":\"billing\"},\n",
    "  {\"ticket_id\": 2, \"agent\":\"Noor\",  \"topic\":\"login\"},\n",
    "  {\"ticket_id\": 3, \"agent\":\"Liam\",  \"topic\":\"billing\"},\n",
    "]\n",
    "index = {r[\"ticket_id\"]: r for r in rows}\n",
    "\n",
    "# Add ticket id=4 (choose any agent/topic)\n",
    "index[4] = {\"ticket_id\": 4, \"agent\":\"Sofia\", \"topic\":\"tech\"}\n",
    "\n",
    "# Change agent for id=3 to 'Chen'\n",
    "index[3][\"agent\"] = \"Chen\"\n",
    "\n",
    "# Quick checks\n",
    "print(\"Ticket 4:\", index[4])\n",
    "print(\"Ticket 3 new agent:\", index[3][\"agent\"])"
   ]
  },
  {
   "cell_type": "code",
   "execution_count": null,
   "id": "7afc56d2",
   "metadata": {},
   "outputs": [],
   "source": [
    "# --- Solution: Exercise B ---\n",
    "from collections import Counter\n",
    "topics = [\"billing\",\"login\",\"tech\",\"billing\",\"billing\",\"tech\",\"login\"]\n",
    "ctr = Counter(topics)\n",
    "\n",
    "total = sum(ctr.values())\n",
    "percentages = {k: round(v * 100 / total, 1) for k, v in ctr.items()}\n",
    "print(\"Counts:\", dict(ctr))\n",
    "print(\"Percentages:\", percentages)"
   ]
  },
  {
   "cell_type": "code",
   "execution_count": null,
   "id": "54ffd5d1",
   "metadata": {},
   "outputs": [],
   "source": [
    "# --- Solution: Exercise C ---\n",
    "data = [\n",
    "  {\"agent\":\"Amara\",\"csat\":4.7,\"t\":\"billing\"},\n",
    "  {\"agent\":\"Amara\",\"csat\":4.5,\"t\":\"login\"},\n",
    "  {\"agent\":\"Liam\",\"csat\":4.2,\"t\":\"tech\"},\n",
    "  {\"agent\":\"Noor\",\"csat\":4.9,\"t\":\"billing\"},\n",
    "]\n",
    "\n",
    "from collections import defaultdict\n",
    "csat_by_agent = defaultdict(list)\n",
    "for r in data:\n",
    "    csat_by_agent[r[\"agent\"]].append(r[\"csat\"])\n",
    "\n",
    "avg_by_agent = {a: round(sum(v)/len(v),2) for a, v in csat_by_agent.items()}\n",
    "counts_by_agent = {a: len(v) for a, v in csat_by_agent.items()}\n",
    "\n",
    "print(\"Avg CSAT:\", avg_by_agent)\n",
    "print(\"Counts per agent:\", counts_by_agent)"
   ]
  },
  {
   "cell_type": "code",
   "execution_count": null,
   "id": "7f55ffc1",
   "metadata": {},
   "outputs": [],
   "source": [
    "# --- Solutions: Quick Quiz ---\n",
    "# Q1: sum tickets per day\n",
    "from collections import defaultdict\n",
    "logs = [\n",
    "  {\"day\":\"Mon\",\"tickets\":120},\n",
    "  {\"day\":\"Tue\",\"tickets\":140},\n",
    "  {\"day\":\"Mon\",\"tickets\":60},\n",
    "]\n",
    "totals = defaultdict(int)\n",
    "for r in logs:\n",
    "    totals[r[\"day\"]] += r[\"tickets\"]\n",
    "print(\"Q1:\", dict(totals))  # {'Mon': 180, 'Tue': 140}\n",
    "\n",
    "# Q2: 10% discount for plans >= 30\n",
    "price = {\"basic\":9,\"pro\":29,\"ent\":99}\n",
    "discounted = {plan: round(p*0.9,2) if p >= 30 else p for plan, p in price.items()}\n",
    "print(\"Q2:\", discounted)    # {'basic': 9, 'pro': 29, 'ent': 89.1}\n",
    "\n",
    "# Q3: safely get usage.minutes (default 0)\n",
    "customer = {\"id\":1, \"profile\":{\"tier\":\"Gold\"}}  # usage may be missing\n",
    "minutes = customer.get(\"usage\", {}).get(\"minutes\", 0)\n",
    "print(\"Q3: minutes =\", minutes)"
   ]
  }
 ],
 "metadata": {},
 "nbformat": 4,
 "nbformat_minor": 5
}
